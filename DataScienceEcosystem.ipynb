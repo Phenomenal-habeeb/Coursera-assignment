{
 "cells": [
  {
   "cell_type": "markdown",
   "id": "4a1efd57-bc35-4ca9-9f62-988c0bc1847f",
   "metadata": {},
   "source": [
    "# Data Science Tools and Ecosystem"
   ]
  },
  {
   "cell_type": "markdown",
   "id": "8a7b710e-f206-4315-a42f-75e7af186ec3",
   "metadata": {},
   "source": [
    "In this notebook, Data Science Tools and Ecosystem are summarized."
   ]
  },
  {
   "cell_type": "markdown",
   "id": "9c199965-6868-4019-9328-4e51b3633f6b",
   "metadata": {},
   "source": [
    "*Objectives:*\n",
    "+ List popular languages for Data Science\n",
    "+ List libraries used for data science\n",
    "+ How to lunch jupiter notebook\n",
    "+ How to lunch VS Code\n",
    "+ How to create a Git Hub account"
   ]
  },
  {
   "cell_type": "markdown",
   "id": "da5e504e-f6c3-422f-9259-eac90cfece9d",
   "metadata": {},
   "source": [
    "Some of the popular languages that Data Scientists use are:\n",
    "1. Python\n",
    "2. R\n",
    "3. SQL\n",
    "4. Java\n",
    "5. Scala"
   ]
  },
  {
   "cell_type": "markdown",
   "id": "670fba70-6d0c-432e-97ab-222f374b5106",
   "metadata": {},
   "source": [
    "Some of the commonly used libraries used by Data Scientists include:\n",
    "1. Pandas\n",
    "2. NumPy\n",
    "3. Matplotlib\n",
    "4. Seaborn"
   ]
  },
  {
   "cell_type": "markdown",
   "id": "0b46af0a-46ae-4b06-a780-4e3410887401",
   "metadata": {},
   "source": [
    "|Data Science Tools|\n",
    "|---------|\n",
    "|Cassandra|\n",
    "|MangoDB|\n",
    "|Airflow|"
   ]
  },
  {
   "cell_type": "markdown",
   "id": "69298af5-119b-48c4-a9a1-e30022e2a2e7",
   "metadata": {},
   "source": [
    "### Below are a few examples of evaluating arithmetic expressions in Python\n",
    "2+9\n"
   ]
  },
  {
   "cell_type": "code",
   "execution_count": 3,
   "id": "e13096e3-592a-4ec6-b7fd-69740f938df1",
   "metadata": {},
   "outputs": [
    {
     "data": {
      "text/plain": [
       "17"
      ]
     },
     "execution_count": 3,
     "metadata": {},
     "output_type": "execute_result"
    }
   ],
   "source": [
    "#This a simple arithmetic expression to mutiply then add integers\n",
    "(3*4)+5"
   ]
  },
  {
   "cell_type": "code",
   "execution_count": 9,
   "id": "4ab7db59-7dbc-46f3-8768-65d008b6c538",
   "metadata": {},
   "outputs": [
    {
     "data": {
      "text/plain": [
       "3.3333333333333335"
      ]
     },
     "execution_count": 9,
     "metadata": {},
     "output_type": "execute_result"
    }
   ],
   "source": [
    "#This will convert 200 minutes to hours by diving by 60\n",
    "\n",
    "(200/60) "
   ]
  },
  {
   "cell_type": "markdown",
   "id": "641f6d01-cadf-4679-9866-9a083f06cc91",
   "metadata": {},
   "source": [
    "## Author\n",
    "Habeebullah Murtada"
   ]
  },
  {
   "cell_type": "code",
   "execution_count": null,
   "id": "dfc1f3e6-5f99-4abe-b95c-3e14a5efe82d",
   "metadata": {},
   "outputs": [],
   "source": []
  }
 ],
 "metadata": {
  "kernelspec": {
   "display_name": "anaconda-panel-2023.05-py310",
   "language": "python",
   "name": "conda-env-anaconda-panel-2023.05-py310-py"
  },
  "language_info": {
   "codemirror_mode": {
    "name": "ipython",
    "version": 3
   },
   "file_extension": ".py",
   "mimetype": "text/x-python",
   "name": "python",
   "nbconvert_exporter": "python",
   "pygments_lexer": "ipython3",
   "version": "3.11.5"
  }
 },
 "nbformat": 4,
 "nbformat_minor": 5
}
